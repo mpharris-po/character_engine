{
 "cells": [
  {
   "cell_type": "code",
   "execution_count": 2,
   "metadata": {},
   "outputs": [],
   "source": [
    "from character import Character"
   ]
  },
  {
   "cell_type": "markdown",
   "metadata": {},
   "source": [
    "Characters have the following properties:\n",
    "\n",
    "name: unique name for the character. used to retrieve the character's folder.\n",
    "full_name: Their full name for purposes of the game.\n",
    "backstory: The character's background"
   ]
  },
  {
   "cell_type": "markdown",
   "metadata": {},
   "source": [
    "# Dr. Chelsea Barren"
   ]
  },
  {
   "cell_type": "code",
   "execution_count": 6,
   "metadata": {},
   "outputs": [],
   "source": [
    "chelsea_name = \"chelsea\"\n",
    "chelsea_full_name = \"Dr. Chelsea Barron\"\n",
    "chelsea_backstory = \"\"\"The sun is setting beyond the rolling hills of California's lush wine country, and you find yourself standing in the front hall of the main house on Killingsworth Farms. \n",
    "You arrived earlier today to see Elizabeth Killingsworth, a recent widow who, due to hard times, is looking to sell the farm that she and her husband purchased just over a year ago. \n",
    "Five others have joined you in the hall. Elizabeth, however, is not present. The strangers around you are looking at you with interest. You help yourself to a glass of wine from the hall table and introduce yourself. \n",
    "Although you do not consider yourself a friend to Elizabeth (just nodding terms as you pass), you live next door to the Killingsworth Farm. You bought your land just about a year ago (the same time as the Killingsworths) when the original farm was sub-divided and sold. \n",
    "You are a retired psychiatrist. You lived in Los Angeles for many years and brought mental peace to many big name stars, but you have a strict policy against name-dropping. While most of your patients droned on and on about their boring problems, you daydreamed about murder and mayhem. Soon you completed a mystery novel that sold very well (just 17 books away from the top ten best-seller list) and allowed you to move to Marcocain and focus on writing a sequel. \n",
    "Your husband is currently overseas on business, but that does not stop you from socializing. You enjoy your newfound fame and often host parties for the cream of the society's crop. In fact, you came to Killingsworth Farm today to ask if you could use some of Elizabeth's farmland for extra valet parking for your party next week. \"\"\"\n",
    "chelsea_secrets=\"\"\"The novel that made you famous also made you a social outcast in Los Angeles. Your fictional novel about a celebrity murder was assumed by some to be based on fact — facts you were told by your celebrity patients. As rumors of your sources surfaced, your career plunged. Celebrity clients found new psychiatrists and you had no work. Invitations stopped arriving. You were blackballed. You had to move. \n",
    "With your husband constantly away, the pressures of social climbing alone can be too much. You like to find relief in the arms of the hot farm hand next door (Enrique). But he is not the only one you have been having an affair with. You fell in love with Robert Killingsworth before he died. He had promised to leave Elizabeth for you, but when she discovered your tryst, Robert felt so ashamed that he decided to work it out with Elizabeth and save their marriage. He died only days later... \n",
    "\"\"\"\n",
    "\n",
    "chelsea = Character(\n",
    "    name=chelsea_name, \n",
    "    full_name=chelsea_full_name,\n",
    "    backstory=chelsea_backstory,\n",
    "    secrets = chelsea_secrets,\n",
    ")\n",
    "\n",
    "chelsea.save()"
   ]
  },
  {
   "cell_type": "code",
   "execution_count": null,
   "metadata": {},
   "outputs": [
    {
     "ename": "AttributeError",
     "evalue": "'Character' object has no attribute 'game'",
     "output_type": "error",
     "traceback": [
      "\u001b[0;31m---------------------------------------------------------------------------\u001b[0m",
      "\u001b[0;31mAttributeError\u001b[0m                            Traceback (most recent call last)",
      "Cell \u001b[0;32mIn[3], line 1\u001b[0m\n\u001b[0;32m----> 1\u001b[0m \u001b[43mCharacter\u001b[49m\u001b[43m(\u001b[49m\u001b[43mname\u001b[49m\u001b[38;5;241;43m=\u001b[39;49m\u001b[38;5;124;43m\"\u001b[39;49m\u001b[38;5;124;43mchelsea\u001b[39;49m\u001b[38;5;124;43m\"\u001b[39;49m\u001b[43m)\u001b[49m\u001b[38;5;241m.\u001b[39mclear_convo()\n",
      "File \u001b[0;32m~/Documents/character_engine/character_engine/character.py:12\u001b[0m, in \u001b[0;36mCharacter.__init__\u001b[0;34m(self, *args, **kwargs)\u001b[0m\n\u001b[1;32m      9\u001b[0m \u001b[38;5;28mself\u001b[39m\u001b[38;5;241m.\u001b[39mname \u001b[38;5;241m=\u001b[39m kwargs\u001b[38;5;241m.\u001b[39mget(\u001b[38;5;124m\"\u001b[39m\u001b[38;5;124mname\u001b[39m\u001b[38;5;124m\"\u001b[39m, \u001b[38;5;28;01mNone\u001b[39;00m)\n\u001b[1;32m     11\u001b[0m \u001b[38;5;28;01mif\u001b[39;00m \u001b[38;5;28mself\u001b[39m\u001b[38;5;241m.\u001b[39mname:\n\u001b[0;32m---> 12\u001b[0m     \u001b[38;5;28;43mself\u001b[39;49m\u001b[38;5;241;43m.\u001b[39;49m\u001b[43mretrieve_saved_character\u001b[49m\u001b[43m(\u001b[49m\u001b[43m)\u001b[49m\n\u001b[1;32m     14\u001b[0m \u001b[38;5;28mself\u001b[39m\u001b[38;5;241m.\u001b[39mload_character(\u001b[38;5;241m*\u001b[39m\u001b[38;5;241m*\u001b[39mkwargs)\n",
      "File \u001b[0;32m~/Documents/character_engine/character_engine/character.py:50\u001b[0m, in \u001b[0;36mCharacter.retrieve_saved_character\u001b[0;34m(self)\u001b[0m\n\u001b[1;32m     47\u001b[0m     \u001b[38;5;28;01mreturn\u001b[39;00m \u001b[38;5;28;01mNone\u001b[39;00m\n\u001b[1;32m     49\u001b[0m \u001b[38;5;28;01mtry\u001b[39;00m:\n\u001b[0;32m---> 50\u001b[0m     profile \u001b[38;5;241m=\u001b[39m json\u001b[38;5;241m.\u001b[39mloads(\u001b[38;5;28mopen\u001b[39m(\u001b[38;5;124mf\u001b[39m\u001b[38;5;124m\"\u001b[39m\u001b[38;5;124mgames/\u001b[39m\u001b[38;5;132;01m{\u001b[39;00m\u001b[38;5;28mself\u001b[39m\u001b[38;5;241m.\u001b[39mgame\u001b[38;5;132;01m}\u001b[39;00m\u001b[38;5;124m/characters/\u001b[39m\u001b[38;5;132;01m{\u001b[39;00m\u001b[38;5;28mself\u001b[39m\u001b[38;5;241m.\u001b[39mname\u001b[38;5;132;01m}\u001b[39;00m\u001b[38;5;124m.json\u001b[39m\u001b[38;5;124m\"\u001b[39m, \u001b[38;5;124m\"\u001b[39m\u001b[38;5;124mr\u001b[39m\u001b[38;5;124m\"\u001b[39m)\u001b[38;5;241m.\u001b[39mread())\n\u001b[1;32m     51\u001b[0m \u001b[38;5;28;01mexcept\u001b[39;00m \u001b[38;5;167;01mFileNotFoundError\u001b[39;00m:\n\u001b[1;32m     52\u001b[0m     profile \u001b[38;5;241m=\u001b[39m \u001b[38;5;28mdict\u001b[39m()\n",
      "\u001b[0;31mAttributeError\u001b[0m: 'Character' object has no attribute 'game'"
     ]
    }
   ],
   "source": [
    "Character(name=\"chelsea\", game=\"sour_grapes\").clear_convo()"
   ]
  },
  {
   "cell_type": "markdown",
   "metadata": {},
   "source": [
    "# Enrique Graves"
   ]
  },
  {
   "cell_type": "code",
   "execution_count": 8,
   "metadata": {},
   "outputs": [],
   "source": [
    "enrique_name=\"enrique\"\n",
    "enrique_full_name=\"Enrique Graves\"\n",
    "enrique_backstory = \"\"\"\"\"\"\n"
   ]
  }
 ],
 "metadata": {
  "kernelspec": {
   "display_name": "character_engine",
   "language": "python",
   "name": "python3"
  },
  "language_info": {
   "codemirror_mode": {
    "name": "ipython",
    "version": 3
   },
   "file_extension": ".py",
   "mimetype": "text/x-python",
   "name": "python",
   "nbconvert_exporter": "python",
   "pygments_lexer": "ipython3",
   "version": "3.9.13"
  }
 },
 "nbformat": 4,
 "nbformat_minor": 2
}
