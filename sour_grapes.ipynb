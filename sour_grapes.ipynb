{
 "cells": [
  {
   "cell_type": "code",
   "execution_count": 1,
   "metadata": {},
   "outputs": [],
   "source": [
    "from character import Character\n",
    "from game import Game"
   ]
  },
  {
   "cell_type": "markdown",
   "metadata": {},
   "source": [
    "Characters have the following properties:\n",
    "\n",
    "name: unique name for the character. used to retrieve the character's folder.\n",
    "full_name: Their full name for purposes of the game.\n",
    "backstory: The character's background"
   ]
  },
  {
   "cell_type": "markdown",
   "metadata": {},
   "source": [
    "# Game Definition"
   ]
  },
  {
   "cell_type": "code",
   "execution_count": null,
   "metadata": {},
   "outputs": [],
   "source": [
    "sour_grapes = Game()\n",
    "\n",
    "sour_grapes.name=\"Sour Grapes of Wrath\"\n",
    "sour_grapes.slug=\"sour_grapes\"\n",
    "sour_grapes.description=\"Murder, secrets and lies in the California Wine Country...\"\n",
    "\n",
    "sour_grapes.add_round(\"introduction\", \"1\")"
   ]
  },
  {
   "cell_type": "code",
   "execution_count": 10,
   "metadata": {},
   "outputs": [],
   "source": [
    "sour_grapes.save()"
   ]
  },
  {
   "cell_type": "markdown",
   "metadata": {},
   "source": [
    "# Dr. Chelsea Barren"
   ]
  },
  {
   "cell_type": "code",
   "execution_count": 9,
   "metadata": {},
   "outputs": [],
   "source": [
    "chelsea_name = \"chelsea\"\n",
    "chelsea_full_name = \"Dr. Chelsea Barron\"\n",
    "chelsea_backstory = \"\"\"Although you do not consider yourself a friend to Elizabeth (just nodding terms as you pass), you live next door to the Killingsworth Farm. You bought your land just about a year ago (the same time as the Killingsworths) when the original farm was sub-divided and sold. \n",
    "You are a retired psychiatrist. You lived in Los Angeles for many years and brought mental peace to many big name stars, but you have a strict policy against name-dropping. While most of your patients droned on and on about their boring problems, you daydreamed about murder and mayhem. Soon you completed a mystery novel that sold very well (just 17 books away from the top ten best-seller list) and allowed you to move to Marcocain and focus on writing a sequel. \n",
    "Your husband is currently overseas on business, but that does not stop you from socializing. You enjoy your newfound fame and often host parties for the cream of the society's crop. In fact, you came to Killingsworth Farm today to ask if you could use some of Elizabeth's farmland for extra valet parking for your party next week. \"\"\"\n",
    "chelsea_secrets=\"\"\"The novel that made you famous also made you a social outcast in Los Angeles. Your fictional novel about a celebrity murder was assumed by some to be based on fact — facts you were told by your celebrity patients. As rumors of your sources surfaced, your career plunged. Celebrity clients found new psychiatrists and you had no work. Invitations stopped arriving. You were blackballed. You had to move. \n",
    "With your husband constantly away, the pressures of social climbing alone can be too much. You like to find relief in the arms of the hot farm hand next door (Enrique). But he is not the only one you have been having an affair with. You fell in love with Robert Killingsworth before he died. He had promised to leave Elizabeth for you, but when she discovered your tryst, Robert felt so ashamed that he decided to work it out with Elizabeth and save their marriage. He died only days later... \n",
    "\"\"\"\n",
    "\n",
    "chelsea = Character(\n",
    "    name=chelsea_name, \n",
    "    full_name=chelsea_full_name,\n",
    "    backstory=chelsea_backstory,\n",
    "    secrets = chelsea_secrets,\n",
    ")\n",
    "\n",
    "sour_grapes.add_character(chelsea)"
   ]
  },
  {
   "cell_type": "code",
   "execution_count": 5,
   "metadata": {},
   "outputs": [],
   "source": [
    "sour_grapes.characters.get(\"chelsea\").clear_convo()"
   ]
  },
  {
   "cell_type": "markdown",
   "metadata": {},
   "source": [
    "# Enrique Graves"
   ]
  },
  {
   "cell_type": "code",
   "execution_count": 8,
   "metadata": {},
   "outputs": [],
   "source": [
    "enrique_name=\"enrique\"\n",
    "enrique_full_name=\"Enrique Graves\"\n",
    "enrique_backstory = \"\"\"\"\"\"\n"
   ]
  }
 ],
 "metadata": {
  "kernelspec": {
   "display_name": "character_engine",
   "language": "python",
   "name": "python3"
  },
  "language_info": {
   "codemirror_mode": {
    "name": "ipython",
    "version": 3
   },
   "file_extension": ".py",
   "mimetype": "text/x-python",
   "name": "python",
   "nbconvert_exporter": "python",
   "pygments_lexer": "ipython3",
   "version": "3.9.13"
  }
 },
 "nbformat": 4,
 "nbformat_minor": 2
}
